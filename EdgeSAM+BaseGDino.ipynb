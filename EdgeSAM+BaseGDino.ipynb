{
 "cells": [
  {
   "cell_type": "code",
   "execution_count": null,
   "metadata": {},
   "outputs": [],
   "source": [
    "from TinySAM import *\n",
    "import numpy as np\n",
    "import matplotlib.pyplot as plt\n",
    "import torch\n",
    "from tqdm.auto import tqdm, trange\n",
    "from torch.utils.data import DataLoader"
   ]
  },
  {
   "cell_type": "markdown",
   "metadata": {},
   "source": [
    "# Setting Up Models"
   ]
  },
  {
   "cell_type": "code",
   "execution_count": null,
   "metadata": {},
   "outputs": [],
   "source": [
    "GroundingModel = GDino(\"IDEA-Research/grounding-dino-tiny\")\n",
    "SAMModel = EdgeSAM()"
   ]
  },
  {
   "cell_type": "markdown",
   "metadata": {},
   "source": [
    "# Load Data to RAM"
   ]
  },
  {
   "cell_type": "code",
   "execution_count": null,
   "metadata": {},
   "outputs": [],
   "source": [
    "data = ZeroShotObjectDetectionDataset('./Data/cityscapes/', do_preprocess=False, processor=GroundingModel.processor)"
   ]
  },
  {
   "cell_type": "code",
   "execution_count": null,
   "metadata": {},
   "outputs": [],
   "source": [
    "# visualize a random sample\n",
    "rnd_idx = np.random.randint(0,len(data))\n",
    "data.visualize(rnd_idx)"
   ]
  },
  {
   "cell_type": "markdown",
   "metadata": {},
   "source": [
    "# Run Grounding Dino"
   ]
  },
  {
   "cell_type": "code",
   "execution_count": null,
   "metadata": {},
   "outputs": [],
   "source": [
    "batch_size = 8\n",
    "dataloader = DataLoader(data, batch_size=batch_size, shuffle=False)\n",
    "\n",
    "# get the text prompts\n",
    "input_ids = data.input_prompt_ins.input_ids.to(GroundingModel.device)\n",
    "target_image_size = data.image_size\n",
    "\n",
    "boxes, labels, scores = GroundingModel.run_loader(dataloader, input_ids, data.text_prompts, target_image_size)"
   ]
  },
  {
   "cell_type": "markdown",
   "metadata": {},
   "source": [
    "# Run SAM2"
   ]
  },
  {
   "cell_type": "code",
   "execution_count": null,
   "metadata": {},
   "outputs": [],
   "source": [
    "masks = SAMModel(data.images, boxes)"
   ]
  },
  {
   "cell_type": "code",
   "execution_count": null,
   "metadata": {},
   "outputs": [],
   "source": [
    "# Save Results (if needed)\n",
    "np.save('masks.npy', np.array(masks, dtype=object))\n",
    "np.save('boxes.npy', np.array(boxes, dtype=object))\n",
    "np.save('labels.npy', np.array(labels, dtype=object))\n",
    "np.save('scores.npy', np.array(scores, dtype=object))"
   ]
  },
  {
   "cell_type": "code",
   "execution_count": null,
   "metadata": {},
   "outputs": [],
   "source": [
    "# Load Results (if needed)\n",
    "masks = np.load('masks.npy', allow_pickle=True)\n",
    "boxes = np.load('boxes.npy', allow_pickle=True)\n",
    "labels = np.load('labels.npy', allow_pickle=True)\n",
    "scores = np.load('scores.npy', allow_pickle=True)"
   ]
  },
  {
   "cell_type": "markdown",
   "metadata": {},
   "source": [
    "# Visualize A Prediction"
   ]
  },
  {
   "cell_type": "code",
   "execution_count": null,
   "metadata": {},
   "outputs": [],
   "source": [
    "rnd_idx = np.random.randint(0,len(data))\n",
    "# visualize ground truth\n",
    "data.visualize(rnd_idx)\n",
    "plt.title('Ground Truth')\n",
    "\n",
    "# visualize the predicted masks\n",
    "data.visualize_prediction(rnd_idx, boxes[rnd_idx], masks[rnd_idx], labels[rnd_idx])\n",
    "plt.title('Predicted Instances Raw')\n",
    "\n",
    "# visualize the predicted masks after post-processing\n",
    "data.visualize_prediction(rnd_idx, boxes[rnd_idx], masks[rnd_idx], labels[rnd_idx], unify=True)"
   ]
  },
  {
   "cell_type": "code",
   "execution_count": null,
   "metadata": {},
   "outputs": [],
   "source": [
    "mIoU, mAP, overall_iou, processed_boxes, processed_labels, processed_masks, processed_scores, unified_masks = data.evaluate_precitions(boxes, labels, masks, scores, return_processed=True)"
   ]
  },
  {
   "cell_type": "code",
   "execution_count": null,
   "metadata": {},
   "outputs": [],
   "source": [
    "mIoU.mean()"
   ]
  },
  {
   "cell_type": "code",
   "execution_count": null,
   "metadata": {},
   "outputs": [],
   "source": []
  }
 ],
 "metadata": {
  "kernelspec": {
   "display_name": "Python 3",
   "language": "python",
   "name": "python3"
  },
  "language_info": {
   "codemirror_mode": {
    "name": "ipython",
    "version": 3
   },
   "file_extension": ".py",
   "mimetype": "text/x-python",
   "name": "python",
   "nbconvert_exporter": "python",
   "pygments_lexer": "ipython3",
   "version": "3.10.16"
  }
 },
 "nbformat": 4,
 "nbformat_minor": 2
}
